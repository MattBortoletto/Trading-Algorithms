{
  "nbformat": 4,
  "nbformat_minor": 0,
  "metadata": {
    "colab": {
      "name": "DecisionTree.ipynb",
      "provenance": []
    },
    "kernelspec": {
      "name": "python3",
      "display_name": "Python 3"
    }
  },
  "cells": [
    {
      "cell_type": "code",
      "metadata": {
        "id": "c7UsZ7s882jo"
      },
      "source": [
        "# this program uses machine learning Decision Tree to predict if \n",
        "# the price of a stock will increase or decrease"
      ],
      "execution_count": 1,
      "outputs": []
    },
    {
      "cell_type": "code",
      "metadata": {
        "id": "IXC_wmgsP8Dr"
      },
      "source": [
        "import numpy as np\n",
        "from sklearn.model_selection import train_test_split\n",
        "from sklearn.tree import DecisionTreeClassifier\n",
        "import pandas as pd\n",
        "import pandas_datareader as web "
      ],
      "execution_count": 2,
      "outputs": []
    },
    {
      "cell_type": "code",
      "metadata": {
        "id": "7RCm_oe4QHCr",
        "outputId": "8bccd793-b897-4104-bc14-f2b14862cca4",
        "colab": {
          "base_uri": "https://localhost:8080/",
          "height": 450
        }
      },
      "source": [
        "# load the data\n",
        "df = web.DataReader('AMZN', \n",
        "                    data_source='yahoo', \n",
        "                    start='2020-01-01', \n",
        "                    end='2020-10-17')\n",
        "\n",
        "df"
      ],
      "execution_count": 3,
      "outputs": [
        {
          "output_type": "execute_result",
          "data": {
            "text/html": [
              "<div>\n",
              "<style scoped>\n",
              "    .dataframe tbody tr th:only-of-type {\n",
              "        vertical-align: middle;\n",
              "    }\n",
              "\n",
              "    .dataframe tbody tr th {\n",
              "        vertical-align: top;\n",
              "    }\n",
              "\n",
              "    .dataframe thead th {\n",
              "        text-align: right;\n",
              "    }\n",
              "</style>\n",
              "<table border=\"1\" class=\"dataframe\">\n",
              "  <thead>\n",
              "    <tr style=\"text-align: right;\">\n",
              "      <th></th>\n",
              "      <th>High</th>\n",
              "      <th>Low</th>\n",
              "      <th>Open</th>\n",
              "      <th>Close</th>\n",
              "      <th>Volume</th>\n",
              "      <th>Adj Close</th>\n",
              "    </tr>\n",
              "    <tr>\n",
              "      <th>Date</th>\n",
              "      <th></th>\n",
              "      <th></th>\n",
              "      <th></th>\n",
              "      <th></th>\n",
              "      <th></th>\n",
              "      <th></th>\n",
              "    </tr>\n",
              "  </thead>\n",
              "  <tbody>\n",
              "    <tr>\n",
              "      <th>2020-01-02</th>\n",
              "      <td>1898.010010</td>\n",
              "      <td>1864.150024</td>\n",
              "      <td>1875.000000</td>\n",
              "      <td>1898.010010</td>\n",
              "      <td>4029000</td>\n",
              "      <td>1898.010010</td>\n",
              "    </tr>\n",
              "    <tr>\n",
              "      <th>2020-01-03</th>\n",
              "      <td>1886.199951</td>\n",
              "      <td>1864.500000</td>\n",
              "      <td>1864.500000</td>\n",
              "      <td>1874.969971</td>\n",
              "      <td>3764400</td>\n",
              "      <td>1874.969971</td>\n",
              "    </tr>\n",
              "    <tr>\n",
              "      <th>2020-01-06</th>\n",
              "      <td>1903.689941</td>\n",
              "      <td>1860.000000</td>\n",
              "      <td>1860.000000</td>\n",
              "      <td>1902.880005</td>\n",
              "      <td>4061800</td>\n",
              "      <td>1902.880005</td>\n",
              "    </tr>\n",
              "    <tr>\n",
              "      <th>2020-01-07</th>\n",
              "      <td>1913.890015</td>\n",
              "      <td>1892.040039</td>\n",
              "      <td>1904.500000</td>\n",
              "      <td>1906.859985</td>\n",
              "      <td>4044900</td>\n",
              "      <td>1906.859985</td>\n",
              "    </tr>\n",
              "    <tr>\n",
              "      <th>2020-01-08</th>\n",
              "      <td>1911.000000</td>\n",
              "      <td>1886.439941</td>\n",
              "      <td>1898.040039</td>\n",
              "      <td>1891.969971</td>\n",
              "      <td>3508000</td>\n",
              "      <td>1891.969971</td>\n",
              "    </tr>\n",
              "    <tr>\n",
              "      <th>...</th>\n",
              "      <td>...</td>\n",
              "      <td>...</td>\n",
              "      <td>...</td>\n",
              "      <td>...</td>\n",
              "      <td>...</td>\n",
              "      <td>...</td>\n",
              "    </tr>\n",
              "    <tr>\n",
              "      <th>2020-10-12</th>\n",
              "      <td>3496.239990</td>\n",
              "      <td>3339.550049</td>\n",
              "      <td>3349.939941</td>\n",
              "      <td>3442.929932</td>\n",
              "      <td>8364200</td>\n",
              "      <td>3442.929932</td>\n",
              "    </tr>\n",
              "    <tr>\n",
              "      <th>2020-10-13</th>\n",
              "      <td>3492.379883</td>\n",
              "      <td>3424.219971</td>\n",
              "      <td>3467.989990</td>\n",
              "      <td>3443.629883</td>\n",
              "      <td>5744700</td>\n",
              "      <td>3443.629883</td>\n",
              "    </tr>\n",
              "    <tr>\n",
              "      <th>2020-10-14</th>\n",
              "      <td>3464.879883</td>\n",
              "      <td>3340.000000</td>\n",
              "      <td>3447.000000</td>\n",
              "      <td>3363.709961</td>\n",
              "      <td>5828900</td>\n",
              "      <td>3363.709961</td>\n",
              "    </tr>\n",
              "    <tr>\n",
              "      <th>2020-10-15</th>\n",
              "      <td>3355.879883</td>\n",
              "      <td>3280.000000</td>\n",
              "      <td>3292.010010</td>\n",
              "      <td>3338.649902</td>\n",
              "      <td>5223400</td>\n",
              "      <td>3338.649902</td>\n",
              "    </tr>\n",
              "    <tr>\n",
              "      <th>2020-10-16</th>\n",
              "      <td>3399.659912</td>\n",
              "      <td>3160.000000</td>\n",
              "      <td>3363.229980</td>\n",
              "      <td>3272.709961</td>\n",
              "      <td>6474400</td>\n",
              "      <td>3272.709961</td>\n",
              "    </tr>\n",
              "  </tbody>\n",
              "</table>\n",
              "<p>201 rows × 6 columns</p>\n",
              "</div>"
            ],
            "text/plain": [
              "                   High          Low  ...   Volume    Adj Close\n",
              "Date                                  ...                      \n",
              "2020-01-02  1898.010010  1864.150024  ...  4029000  1898.010010\n",
              "2020-01-03  1886.199951  1864.500000  ...  3764400  1874.969971\n",
              "2020-01-06  1903.689941  1860.000000  ...  4061800  1902.880005\n",
              "2020-01-07  1913.890015  1892.040039  ...  4044900  1906.859985\n",
              "2020-01-08  1911.000000  1886.439941  ...  3508000  1891.969971\n",
              "...                 ...          ...  ...      ...          ...\n",
              "2020-10-12  3496.239990  3339.550049  ...  8364200  3442.929932\n",
              "2020-10-13  3492.379883  3424.219971  ...  5744700  3443.629883\n",
              "2020-10-14  3464.879883  3340.000000  ...  5828900  3363.709961\n",
              "2020-10-15  3355.879883  3280.000000  ...  5223400  3338.649902\n",
              "2020-10-16  3399.659912  3160.000000  ...  6474400  3272.709961\n",
              "\n",
              "[201 rows x 6 columns]"
            ]
          },
          "metadata": {
            "tags": []
          },
          "execution_count": 3
        }
      ]
    },
    {
      "cell_type": "code",
      "metadata": {
        "id": "aiE8dUyYQpLo",
        "outputId": "85415314-de61-42eb-ef4e-315ee37af8da",
        "colab": {
          "base_uri": "https://localhost:8080/",
          "height": 450
        }
      },
      "source": [
        "# create the target column\n",
        "# if tomorrow close price is greater than today close price write 1, otherwise 0\n",
        "df['Price up'] = np.where(df['Close'].shift(-1) > df['Close'], 1, 0)\n",
        "df"
      ],
      "execution_count": 4,
      "outputs": [
        {
          "output_type": "execute_result",
          "data": {
            "text/html": [
              "<div>\n",
              "<style scoped>\n",
              "    .dataframe tbody tr th:only-of-type {\n",
              "        vertical-align: middle;\n",
              "    }\n",
              "\n",
              "    .dataframe tbody tr th {\n",
              "        vertical-align: top;\n",
              "    }\n",
              "\n",
              "    .dataframe thead th {\n",
              "        text-align: right;\n",
              "    }\n",
              "</style>\n",
              "<table border=\"1\" class=\"dataframe\">\n",
              "  <thead>\n",
              "    <tr style=\"text-align: right;\">\n",
              "      <th></th>\n",
              "      <th>High</th>\n",
              "      <th>Low</th>\n",
              "      <th>Open</th>\n",
              "      <th>Close</th>\n",
              "      <th>Volume</th>\n",
              "      <th>Adj Close</th>\n",
              "      <th>Price up</th>\n",
              "    </tr>\n",
              "    <tr>\n",
              "      <th>Date</th>\n",
              "      <th></th>\n",
              "      <th></th>\n",
              "      <th></th>\n",
              "      <th></th>\n",
              "      <th></th>\n",
              "      <th></th>\n",
              "      <th></th>\n",
              "    </tr>\n",
              "  </thead>\n",
              "  <tbody>\n",
              "    <tr>\n",
              "      <th>2020-01-02</th>\n",
              "      <td>1898.010010</td>\n",
              "      <td>1864.150024</td>\n",
              "      <td>1875.000000</td>\n",
              "      <td>1898.010010</td>\n",
              "      <td>4029000</td>\n",
              "      <td>1898.010010</td>\n",
              "      <td>0</td>\n",
              "    </tr>\n",
              "    <tr>\n",
              "      <th>2020-01-03</th>\n",
              "      <td>1886.199951</td>\n",
              "      <td>1864.500000</td>\n",
              "      <td>1864.500000</td>\n",
              "      <td>1874.969971</td>\n",
              "      <td>3764400</td>\n",
              "      <td>1874.969971</td>\n",
              "      <td>1</td>\n",
              "    </tr>\n",
              "    <tr>\n",
              "      <th>2020-01-06</th>\n",
              "      <td>1903.689941</td>\n",
              "      <td>1860.000000</td>\n",
              "      <td>1860.000000</td>\n",
              "      <td>1902.880005</td>\n",
              "      <td>4061800</td>\n",
              "      <td>1902.880005</td>\n",
              "      <td>1</td>\n",
              "    </tr>\n",
              "    <tr>\n",
              "      <th>2020-01-07</th>\n",
              "      <td>1913.890015</td>\n",
              "      <td>1892.040039</td>\n",
              "      <td>1904.500000</td>\n",
              "      <td>1906.859985</td>\n",
              "      <td>4044900</td>\n",
              "      <td>1906.859985</td>\n",
              "      <td>0</td>\n",
              "    </tr>\n",
              "    <tr>\n",
              "      <th>2020-01-08</th>\n",
              "      <td>1911.000000</td>\n",
              "      <td>1886.439941</td>\n",
              "      <td>1898.040039</td>\n",
              "      <td>1891.969971</td>\n",
              "      <td>3508000</td>\n",
              "      <td>1891.969971</td>\n",
              "      <td>1</td>\n",
              "    </tr>\n",
              "    <tr>\n",
              "      <th>...</th>\n",
              "      <td>...</td>\n",
              "      <td>...</td>\n",
              "      <td>...</td>\n",
              "      <td>...</td>\n",
              "      <td>...</td>\n",
              "      <td>...</td>\n",
              "      <td>...</td>\n",
              "    </tr>\n",
              "    <tr>\n",
              "      <th>2020-10-12</th>\n",
              "      <td>3496.239990</td>\n",
              "      <td>3339.550049</td>\n",
              "      <td>3349.939941</td>\n",
              "      <td>3442.929932</td>\n",
              "      <td>8364200</td>\n",
              "      <td>3442.929932</td>\n",
              "      <td>1</td>\n",
              "    </tr>\n",
              "    <tr>\n",
              "      <th>2020-10-13</th>\n",
              "      <td>3492.379883</td>\n",
              "      <td>3424.219971</td>\n",
              "      <td>3467.989990</td>\n",
              "      <td>3443.629883</td>\n",
              "      <td>5744700</td>\n",
              "      <td>3443.629883</td>\n",
              "      <td>0</td>\n",
              "    </tr>\n",
              "    <tr>\n",
              "      <th>2020-10-14</th>\n",
              "      <td>3464.879883</td>\n",
              "      <td>3340.000000</td>\n",
              "      <td>3447.000000</td>\n",
              "      <td>3363.709961</td>\n",
              "      <td>5828900</td>\n",
              "      <td>3363.709961</td>\n",
              "      <td>0</td>\n",
              "    </tr>\n",
              "    <tr>\n",
              "      <th>2020-10-15</th>\n",
              "      <td>3355.879883</td>\n",
              "      <td>3280.000000</td>\n",
              "      <td>3292.010010</td>\n",
              "      <td>3338.649902</td>\n",
              "      <td>5223400</td>\n",
              "      <td>3338.649902</td>\n",
              "      <td>0</td>\n",
              "    </tr>\n",
              "    <tr>\n",
              "      <th>2020-10-16</th>\n",
              "      <td>3399.659912</td>\n",
              "      <td>3160.000000</td>\n",
              "      <td>3363.229980</td>\n",
              "      <td>3272.709961</td>\n",
              "      <td>6474400</td>\n",
              "      <td>3272.709961</td>\n",
              "      <td>0</td>\n",
              "    </tr>\n",
              "  </tbody>\n",
              "</table>\n",
              "<p>201 rows × 7 columns</p>\n",
              "</div>"
            ],
            "text/plain": [
              "                   High          Low  ...    Adj Close  Price up\n",
              "Date                                  ...                       \n",
              "2020-01-02  1898.010010  1864.150024  ...  1898.010010         0\n",
              "2020-01-03  1886.199951  1864.500000  ...  1874.969971         1\n",
              "2020-01-06  1903.689941  1860.000000  ...  1902.880005         1\n",
              "2020-01-07  1913.890015  1892.040039  ...  1906.859985         0\n",
              "2020-01-08  1911.000000  1886.439941  ...  1891.969971         1\n",
              "...                 ...          ...  ...          ...       ...\n",
              "2020-10-12  3496.239990  3339.550049  ...  3442.929932         1\n",
              "2020-10-13  3492.379883  3424.219971  ...  3443.629883         0\n",
              "2020-10-14  3464.879883  3340.000000  ...  3363.709961         0\n",
              "2020-10-15  3355.879883  3280.000000  ...  3338.649902         0\n",
              "2020-10-16  3399.659912  3160.000000  ...  3272.709961         0\n",
              "\n",
              "[201 rows x 7 columns]"
            ]
          },
          "metadata": {
            "tags": []
          },
          "execution_count": 4
        }
      ]
    },
    {
      "cell_type": "code",
      "metadata": {
        "id": "rtrMhaMLRcG-"
      },
      "source": [
        "# split the data into train and test\n",
        "X = df.iloc[:, 0:df.shape[1]-1].values\n",
        "Y = df.iloc[:, df.shape[1]-1].values\n",
        "X_train, X_test, Y_train, Y_test = train_test_split(X, Y, test_size=0.2)"
      ],
      "execution_count": 5,
      "outputs": []
    },
    {
      "cell_type": "code",
      "metadata": {
        "id": "2e-C2H4_SDrc",
        "outputId": "c12ba0b8-1b09-455b-f188-aa208e99fe55",
        "colab": {
          "base_uri": "https://localhost:8080/",
          "height": 34
        }
      },
      "source": [
        "# create and train the model\n",
        "tree = DecisionTreeClassifier().fit(X_train, Y_train) \n",
        "\n",
        "print(tree.score(X_test, Y_test))"
      ],
      "execution_count": 6,
      "outputs": [
        {
          "output_type": "stream",
          "text": [
            "0.6829268292682927\n"
          ],
          "name": "stdout"
        }
      ]
    },
    {
      "cell_type": "code",
      "metadata": {
        "id": "Ekjqqz6fSoQK",
        "outputId": "70ecdfc2-7d70-428f-8615-6381ad5a7aa0",
        "colab": {
          "base_uri": "https://localhost:8080/",
          "height": 51
        }
      },
      "source": [
        "# show the model predictions\n",
        "tree_predictions = tree.predict(X_test) \n",
        "print(tree_predictions)"
      ],
      "execution_count": 7,
      "outputs": [
        {
          "output_type": "stream",
          "text": [
            "[0 1 1 0 1 0 1 0 0 0 0 1 0 1 0 1 1 0 0 0 0 1 0 0 1 1 0 0 1 0 0 1 1 0 1 0 1\n",
            " 0 1 0 1]\n"
          ],
          "name": "stdout"
        }
      ]
    },
    {
      "cell_type": "code",
      "metadata": {
        "id": "6D9ZZpniS1HV",
        "outputId": "c49ccc97-c94c-45d1-b67a-703df56306d7",
        "colab": {
          "base_uri": "https://localhost:8080/",
          "height": 51
        }
      },
      "source": [
        "# show the actual values\n",
        "print(Y_test)"
      ],
      "execution_count": 8,
      "outputs": [
        {
          "output_type": "stream",
          "text": [
            "[0 1 1 1 1 0 0 1 1 0 0 1 0 1 1 1 1 1 0 0 1 0 0 0 0 0 0 0 1 0 0 1 0 1 1 1 1\n",
            " 0 1 0 1]\n"
          ],
          "name": "stdout"
        }
      ]
    }
  ]
}