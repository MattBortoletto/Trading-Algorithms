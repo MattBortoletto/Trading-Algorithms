{
  "nbformat": 4,
  "nbformat_minor": 0,
  "metadata": {
    "colab": {
      "name": "Stock-Prices-Prediction-Using-SVR-and-LinearRegression.ipynb",
      "provenance": []
    },
    "kernelspec": {
      "name": "python3",
      "display_name": "Python 3"
    }
  },
  "cells": [
    {
      "cell_type": "code",
      "metadata": {
        "id": "75E1rGnswwpj"
      },
      "source": [
        "# this program predicts stock prices by using machine learning models\n",
        "\n",
        "# import dependencies\n",
        "import pandas_datareader as web \n",
        "import numpy as np \n",
        "from sklearn.linear_model import LinearRegression\n",
        "from sklearn.svm import SVR\n",
        "from sklearn.model_selection import train_test_split"
      ],
      "execution_count": 1,
      "outputs": []
    },
    {
      "cell_type": "code",
      "metadata": {
        "id": "9b7R_17lxRUt",
        "outputId": "bc68982c-8566-40e2-d527-a18cd4783bd1",
        "colab": {
          "base_uri": "https://localhost:8080/",
          "height": 34
        }
      },
      "source": [
        "# get the stock data (Facebook)\n",
        "df = df = web.DataReader('FB', \n",
        "                    data_source='yahoo', \n",
        "                    start='2010-01-01', \n",
        "                    end='2020-10-17')\n",
        "df.keys()"
      ],
      "execution_count": 2,
      "outputs": [
        {
          "output_type": "execute_result",
          "data": {
            "text/plain": [
              "Index(['High', 'Low', 'Open', 'Close', 'Volume', 'Adj Close'], dtype='object')"
            ]
          },
          "metadata": {
            "tags": []
          },
          "execution_count": 2
        }
      ]
    },
    {
      "cell_type": "code",
      "metadata": {
        "id": "6BPyymerxSE6",
        "outputId": "efed22cb-ab77-45c1-f0df-d6b0c6710015",
        "colab": {
          "base_uri": "https://localhost:8080/",
          "height": 235
        }
      },
      "source": [
        "# get the adjusted close price \n",
        "df = df[['Adj Close']]\n",
        "df.tail()"
      ],
      "execution_count": 3,
      "outputs": [
        {
          "output_type": "execute_result",
          "data": {
            "text/html": [
              "<div>\n",
              "<style scoped>\n",
              "    .dataframe tbody tr th:only-of-type {\n",
              "        vertical-align: middle;\n",
              "    }\n",
              "\n",
              "    .dataframe tbody tr th {\n",
              "        vertical-align: top;\n",
              "    }\n",
              "\n",
              "    .dataframe thead th {\n",
              "        text-align: right;\n",
              "    }\n",
              "</style>\n",
              "<table border=\"1\" class=\"dataframe\">\n",
              "  <thead>\n",
              "    <tr style=\"text-align: right;\">\n",
              "      <th></th>\n",
              "      <th>Adj Close</th>\n",
              "    </tr>\n",
              "    <tr>\n",
              "      <th>Date</th>\n",
              "      <th></th>\n",
              "    </tr>\n",
              "  </thead>\n",
              "  <tbody>\n",
              "    <tr>\n",
              "      <th>2020-10-12</th>\n",
              "      <td>275.750000</td>\n",
              "    </tr>\n",
              "    <tr>\n",
              "      <th>2020-10-13</th>\n",
              "      <td>276.140015</td>\n",
              "    </tr>\n",
              "    <tr>\n",
              "      <th>2020-10-14</th>\n",
              "      <td>271.820007</td>\n",
              "    </tr>\n",
              "    <tr>\n",
              "      <th>2020-10-15</th>\n",
              "      <td>266.720001</td>\n",
              "    </tr>\n",
              "    <tr>\n",
              "      <th>2020-10-16</th>\n",
              "      <td>265.929993</td>\n",
              "    </tr>\n",
              "  </tbody>\n",
              "</table>\n",
              "</div>"
            ],
            "text/plain": [
              "             Adj Close\n",
              "Date                  \n",
              "2020-10-12  275.750000\n",
              "2020-10-13  276.140015\n",
              "2020-10-14  271.820007\n",
              "2020-10-15  266.720001\n",
              "2020-10-16  265.929993"
            ]
          },
          "metadata": {
            "tags": []
          },
          "execution_count": 3
        }
      ]
    },
    {
      "cell_type": "code",
      "metadata": {
        "id": "90ab6j-Oyimw",
        "outputId": "9d6cb895-0a44-47b0-ed71-56d9eda5f12a",
        "colab": {
          "base_uri": "https://localhost:8080/",
          "height": 235
        }
      },
      "source": [
        "# we want to predict the price n days out into the future (for now n=1)\n",
        "forecast_out = 30\n",
        "\n",
        "# create another column for the prediction (the value of the stock n days after)\n",
        "df['Prediction'] = df[['Adj Close']].shift(-forecast_out)\n",
        "df.tail()"
      ],
      "execution_count": 4,
      "outputs": [
        {
          "output_type": "execute_result",
          "data": {
            "text/html": [
              "<div>\n",
              "<style scoped>\n",
              "    .dataframe tbody tr th:only-of-type {\n",
              "        vertical-align: middle;\n",
              "    }\n",
              "\n",
              "    .dataframe tbody tr th {\n",
              "        vertical-align: top;\n",
              "    }\n",
              "\n",
              "    .dataframe thead th {\n",
              "        text-align: right;\n",
              "    }\n",
              "</style>\n",
              "<table border=\"1\" class=\"dataframe\">\n",
              "  <thead>\n",
              "    <tr style=\"text-align: right;\">\n",
              "      <th></th>\n",
              "      <th>Adj Close</th>\n",
              "      <th>Prediction</th>\n",
              "    </tr>\n",
              "    <tr>\n",
              "      <th>Date</th>\n",
              "      <th></th>\n",
              "      <th></th>\n",
              "    </tr>\n",
              "  </thead>\n",
              "  <tbody>\n",
              "    <tr>\n",
              "      <th>2020-10-12</th>\n",
              "      <td>275.750000</td>\n",
              "      <td>NaN</td>\n",
              "    </tr>\n",
              "    <tr>\n",
              "      <th>2020-10-13</th>\n",
              "      <td>276.140015</td>\n",
              "      <td>NaN</td>\n",
              "    </tr>\n",
              "    <tr>\n",
              "      <th>2020-10-14</th>\n",
              "      <td>271.820007</td>\n",
              "      <td>NaN</td>\n",
              "    </tr>\n",
              "    <tr>\n",
              "      <th>2020-10-15</th>\n",
              "      <td>266.720001</td>\n",
              "      <td>NaN</td>\n",
              "    </tr>\n",
              "    <tr>\n",
              "      <th>2020-10-16</th>\n",
              "      <td>265.929993</td>\n",
              "      <td>NaN</td>\n",
              "    </tr>\n",
              "  </tbody>\n",
              "</table>\n",
              "</div>"
            ],
            "text/plain": [
              "             Adj Close  Prediction\n",
              "Date                              \n",
              "2020-10-12  275.750000         NaN\n",
              "2020-10-13  276.140015         NaN\n",
              "2020-10-14  271.820007         NaN\n",
              "2020-10-15  266.720001         NaN\n",
              "2020-10-16  265.929993         NaN"
            ]
          },
          "metadata": {
            "tags": []
          },
          "execution_count": 4
        }
      ]
    },
    {
      "cell_type": "code",
      "metadata": {
        "id": "xradt45L0o89",
        "outputId": "60de40d0-7647-4b13-fb46-b2ceedaff6fe",
        "colab": {
          "base_uri": "https://localhost:8080/",
          "height": 221
        }
      },
      "source": [
        "# create the independent dataset\n",
        "# convert the dataframe into a numpy array\n",
        "X = np.array(df.drop(['Prediction'], 1))\n",
        "# remove the last n rows\n",
        "X = X[:-forecast_out]\n",
        "\n",
        "# create the dependent dataset \n",
        "# convert the datafram into a numpy array\n",
        "Y = np.array(df['Prediction'])\n",
        "# get all of the Y values except the last n rows\n",
        "Y = Y[:-forecast_out]\n",
        "\n",
        "print('X: \\n', X)\n",
        "print('\\nY: \\n', Y)"
      ],
      "execution_count": 5,
      "outputs": [
        {
          "output_type": "stream",
          "text": [
            "X: \n",
            " [[ 38.22999954]\n",
            " [ 34.02999878]\n",
            " [ 31.        ]\n",
            " ...\n",
            " [295.44000244]\n",
            " [302.5       ]\n",
            " [291.11999512]]\n",
            "\n",
            "Y: \n",
            " [ 30.77000046  31.20000076  31.46999931 ... 271.82000732 266.72000122\n",
            " 265.92999268]\n"
          ],
          "name": "stdout"
        }
      ]
    },
    {
      "cell_type": "code",
      "metadata": {
        "id": "kKbLZNta2L3W"
      },
      "source": [
        "# split the data into train and test set\n",
        "x_train, x_test, y_train, y_test = train_test_split(X, Y, test_size=0.2)"
      ],
      "execution_count": 6,
      "outputs": []
    },
    {
      "cell_type": "code",
      "metadata": {
        "id": "wDzPAXo52rg4",
        "outputId": "6ea8d9fa-f4d7-46d1-9bea-4e6fd643ab41",
        "colab": {
          "base_uri": "https://localhost:8080/",
          "height": 51
        }
      },
      "source": [
        "# create and train the Support Vector Machine (Regressor)\n",
        "svr_rbf = SVR(kernel='rbf', C=1e3, gamma=0.1) \n",
        "svr_rbf.fit(x_train, y_train)"
      ],
      "execution_count": 7,
      "outputs": [
        {
          "output_type": "execute_result",
          "data": {
            "text/plain": [
              "SVR(C=1000.0, cache_size=200, coef0=0.0, degree=3, epsilon=0.1, gamma=0.1,\n",
              "    kernel='rbf', max_iter=-1, shrinking=True, tol=0.001, verbose=False)"
            ]
          },
          "metadata": {
            "tags": []
          },
          "execution_count": 7
        }
      ]
    },
    {
      "cell_type": "code",
      "metadata": {
        "id": "TMIDOOJe3F1f",
        "outputId": "6cd51f27-d068-43b2-90ed-663ec8425371",
        "colab": {
          "base_uri": "https://localhost:8080/",
          "height": 34
        }
      },
      "source": [
        "# test the model\n",
        "# find the R^2 coefficient of the prediction\n",
        "svm_r2 = svr_rbf.score(x_test, y_test) \n",
        "print('SVM confidence:', svm_r2)"
      ],
      "execution_count": 8,
      "outputs": [
        {
          "output_type": "stream",
          "text": [
            "SVM confidence: 0.9509775725553585\n"
          ],
          "name": "stdout"
        }
      ]
    },
    {
      "cell_type": "code",
      "metadata": {
        "id": "lYqcLEVE3mw6",
        "outputId": "1a6502f4-06c0-4ead-dc09-3d6107aaae54",
        "colab": {
          "base_uri": "https://localhost:8080/",
          "height": 34
        }
      },
      "source": [
        "# create and train a linear regression model \n",
        "lr = LinearRegression()\n",
        "lr.fit(x_train, y_train) "
      ],
      "execution_count": 9,
      "outputs": [
        {
          "output_type": "execute_result",
          "data": {
            "text/plain": [
              "LinearRegression(copy_X=True, fit_intercept=True, n_jobs=None, normalize=False)"
            ]
          },
          "metadata": {
            "tags": []
          },
          "execution_count": 9
        }
      ]
    },
    {
      "cell_type": "code",
      "metadata": {
        "id": "jpArZgE130aT",
        "outputId": "75a00371-1662-4d06-dfc2-c7f3208e3d2b",
        "colab": {
          "base_uri": "https://localhost:8080/",
          "height": 34
        }
      },
      "source": [
        "# test the model\n",
        "# find the R^2 coefficient of the prediction\n",
        "lr_r2 = lr.score(x_test, y_test) \n",
        "print('Linear Regression confidence:', lr_r2)"
      ],
      "execution_count": 10,
      "outputs": [
        {
          "output_type": "stream",
          "text": [
            "Linear Regression confidence: 0.9463111780954463\n"
          ],
          "name": "stdout"
        }
      ]
    },
    {
      "cell_type": "markdown",
      "metadata": {
        "id": "AYPSrYbx4LDe"
      },
      "source": [
        "It seems that the Linear Regression model works better."
      ]
    },
    {
      "cell_type": "code",
      "metadata": {
        "id": "cG9ufLxa4QbS",
        "outputId": "58544b7a-7330-4cd6-d590-a3251c1e4f6a",
        "colab": {
          "base_uri": "https://localhost:8080/",
          "height": 527
        }
      },
      "source": [
        "# set the x_forecast equal to the last 30 rows of the original \n",
        "# dataset from 'Adj Close' column\n",
        "x_forecast = np.array(df.drop(['Prediction'], 1))[-forecast_out:]\n",
        "print(x_forecast)"
      ],
      "execution_count": 11,
      "outputs": [
        {
          "output_type": "stream",
          "text": [
            "[[282.73001099]\n",
            " [271.16000366]\n",
            " [273.72000122]\n",
            " [268.08999634]\n",
            " [266.60998535]\n",
            " [266.1499939 ]\n",
            " [272.42001343]\n",
            " [263.51998901]\n",
            " [254.82000732]\n",
            " [252.52999878]\n",
            " [248.1499939 ]\n",
            " [254.75      ]\n",
            " [249.02000427]\n",
            " [249.52999878]\n",
            " [254.82000732]\n",
            " [256.82000732]\n",
            " [261.79000854]\n",
            " [261.8999939 ]\n",
            " [266.63000488]\n",
            " [259.94000244]\n",
            " [264.6499939 ]\n",
            " [258.66000366]\n",
            " [258.11999512]\n",
            " [263.76000977]\n",
            " [264.45001221]\n",
            " [275.75      ]\n",
            " [276.14001465]\n",
            " [271.82000732]\n",
            " [266.72000122]\n",
            " [265.92999268]]\n"
          ],
          "name": "stdout"
        }
      ]
    },
    {
      "cell_type": "code",
      "metadata": {
        "id": "vsdzlOft4Beq",
        "outputId": "ce569d86-45a5-41ef-ce1c-ec86fab7b621",
        "colab": {
          "base_uri": "https://localhost:8080/",
          "height": 272
        }
      },
      "source": [
        "# print the predictions for the next n days \n",
        "lr_prediction = lr.predict(x_forecast)\n",
        "print('Linear regression predictions for the next {} days: \\n'.format(forecast_out), lr_prediction)\n",
        "\n",
        "svm_prediction = svr_rbf.predict(x_forecast)\n",
        "print('\\nSVM predictions for the next {} days: \\n'.format(forecast_out), svm_prediction)"
      ],
      "execution_count": 16,
      "outputs": [
        {
          "output_type": "stream",
          "text": [
            "Linear regression predictions for the next 30 days: \n",
            " [286.54191964 274.94266903 277.50913701 271.86490224 270.38115052\n",
            " 269.91999643 276.20586348 267.28334419 258.56137322 256.26557666\n",
            " 251.87450128 258.49118896 252.74671062 253.25799414 258.56137322\n",
            " 260.56642824 265.54899118 265.65925452 270.40122065 263.69430917\n",
            " 268.41620517 262.41107518 261.86970176 267.52397159 268.21571802\n",
            " 279.54426662 279.93526704 275.60434086 270.49144445 269.69943915]\n",
            "\n",
            "SVM predictions for the next 30 days: \n",
            " [226.84068097 253.07223315 185.60391287 260.06524326 264.54913954\n",
            " 262.17484176 220.81698837 249.21781097 259.76003991 272.03952799\n",
            " 291.44655292 260.13996239 271.77352876 265.27921051 259.76003991\n",
            " 238.0380773  261.22160891 261.88243173 264.5927227  221.87193657\n",
            " 246.15870645 208.91801739 214.02191375 246.93755514 245.18539502\n",
            " 167.41971317 169.53843881 238.11146745 264.72868573 260.17017417]\n"
          ],
          "name": "stdout"
        }
      ]
    }
  ]
}